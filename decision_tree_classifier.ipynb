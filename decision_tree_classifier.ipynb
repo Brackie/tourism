{
 "cells": [
  {
   "cell_type": "code",
   "execution_count": 2,
   "metadata": {},
   "outputs": [],
   "source": [
    "training_data = [\n",
    "    ['Green', 3, 'Apple'],\n",
    "    ['Yellow', 3, 'Apple'],\n",
    "    ['Red', 1, 'Grape'],\n",
    "    ['Red', 1, 'Grape'],\n",
    "    ['Yellow', 3, 'Lemon'],\n",
    "]"
   ]
  },
  {
   "cell_type": "code",
   "execution_count": 3,
   "metadata": {},
   "outputs": [],
   "source": [
    "# Column labels\n",
    "header = [\"color\", \"diameter\", \"label\"]"
   ]
  },
  {
   "cell_type": "code",
   "execution_count": 4,
   "metadata": {},
   "outputs": [],
   "source": [
    "# Utility function to find unique values of a specific column\n",
    "def unique(rows, column):\n",
    "    return set([row[column] for row in rows])"
   ]
  },
  {
   "cell_type": "code",
   "execution_count": 5,
   "metadata": {},
   "outputs": [],
   "source": [
    "# Utility function to return number of occurences of a certain class\n",
    "def class_counts(rows):\n",
    "    counts = {}\n",
    "    for row in rows:\n",
    "        label = row[-1]\n",
    "        if label not in counts:\n",
    "            counts[label] = 0\n",
    "        counts[label] += 1\n",
    "    return counts"
   ]
  },
  {
   "cell_type": "code",
   "execution_count": 6,
   "metadata": {},
   "outputs": [],
   "source": [
    "# Utility function to check if a value is a number\n",
    "def is_numeric(val):\n",
    "    return isinstance(val, int) or isinstance(val, float)"
   ]
  },
  {
   "cell_type": "code",
   "execution_count": 7,
   "metadata": {},
   "outputs": [],
   "source": [
    "# The gini function returns the gini impurity of the data \n",
    "#(This is the probability that an item can be wrongly \n",
    "# classified in a class if the label for the item is \n",
    "# randomly chosen from the data set)\n",
    "def gini(rows):\n",
    "    impurity = 1\n",
    "    cls_counts = class_counts(rows)\n",
    "    for lbl in cls_counts:\n",
    "        p_lbl = (cls_counts[lbl]/float(len(rows)))\n",
    "        impurity -= (p_lbl ** 2)\n",
    "    return impurity"
   ]
  },
  {
   "cell_type": "code",
   "execution_count": 8,
   "metadata": {},
   "outputs": [],
   "source": [
    "# The uncertainty of the starting node, minus the weighted impurity of two child nodes.\n",
    "def info_gain(left, right, current_uncertainty):\n",
    "    p = float(len(left)) / (len(left) + len(right))\n",
    "    return current_uncertainty - p * gini(left) - (1 - p) * gini(right)"
   ]
  },
  {
   "cell_type": "code",
   "execution_count": 46,
   "metadata": {},
   "outputs": [],
   "source": [
    "def print_tree(node, spacing=\"\"):\n",
    "    \"\"\"World's most elegant tree printing function.\"\"\"\n",
    "    \n",
    "    print(\"The Selected Decision Tree.\")\n",
    "    \n",
    "    # Base case: we've reached a leaf\n",
    "    if isinstance(node, Leaf):\n",
    "        print (spacing + \"Predict\", node.predictions)\n",
    "        return\n",
    "\n",
    "    # Print the question at this node\n",
    "    print (spacing + str(node.question))\n",
    "\n",
    "    # Call this function recursively on the true branch\n",
    "    print (spacing + '--> True:')\n",
    "    print_tree(node.left_branch, spacing + \"  \")\n",
    "\n",
    "    # Call this function recursively on the false branch\n",
    "    print (spacing + '--> False:')\n",
    "    print_tree(node.right_branch, spacing + \"  \")"
   ]
  },
  {
   "cell_type": "code",
   "execution_count": 22,
   "metadata": {},
   "outputs": [],
   "source": [
    "class Question:\n",
    "    '''\n",
    "    Question class instance will take an init value of a column and a value\n",
    "    The match function will be called to compare an example row passed to \n",
    "    the function with the value initialized with the Question instance.\n",
    "    '''\n",
    "    \n",
    "    def __init__(self, column, value):\n",
    "        self.column = column\n",
    "        self.value = value\n",
    "        \n",
    "    def match(self, example):\n",
    "        val = example[self.column]\n",
    "        if is_numeric(self.value):\n",
    "            return self.value >= val\n",
    "        else:\n",
    "            return self.value == val\n",
    "    \n",
    "    def __repr__(self):\n",
    "        if is_numeric(self.value):\n",
    "            condition = \">=\"\n",
    "        else:\n",
    "            condition = \"==\"\n",
    "        return \"Is %s %s %s?\" % (header[self.column], condition, self.value)"
   ]
  },
  {
   "cell_type": "code",
   "execution_count": 11,
   "metadata": {},
   "outputs": [],
   "source": [
    "class Leaf:\n",
    "    \"\"\"\n",
    "    A Leaf node classifies data.\n",
    "    This holds a dictionary of class (e.g., \"Apple\") -> number of times\n",
    "    it appears in the rows from the training data that reach this leaf.\n",
    "    \"\"\"\n",
    "\n",
    "    def __init__(self, rows):\n",
    "        self.predictions = class_counts(rows)"
   ]
  },
  {
   "cell_type": "code",
   "execution_count": 31,
   "metadata": {},
   "outputs": [],
   "source": [
    "class DecisionNode:\n",
    "    \"\"\"\n",
    "    A Decision Node asks a question.\n",
    "    This holds a reference to the question, and to the two child nodes.\n",
    "    \"\"\"\n",
    "\n",
    "    def __init__(self, question, left_branch, right_branch):\n",
    "        self.question = question\n",
    "        self.left_branch = left_branch\n",
    "        self.right_branch = right_branch"
   ]
  },
  {
   "cell_type": "code",
   "execution_count": 44,
   "metadata": {},
   "outputs": [],
   "source": [
    "class DTClassifier:\n",
    "    '''\n",
    "    DTClassifier instance will take some training data \n",
    "    in the fit function then parition it accordingly using the \n",
    "    partition function then it can be used to predict a certain \n",
    "    class using the predict function. \n",
    "    '''\n",
    "\n",
    "    def fit(self, training_data):\n",
    "        self.training_data = training_data\n",
    "        \n",
    "    # Use a question to separate the data along a certain feature\n",
    "    def partition(self, rows, question):\n",
    "        true_rows, false_rows = [], []\n",
    "        for row in rows:\n",
    "            if question.match(row):\n",
    "                true_rows.append(row)\n",
    "            else:\n",
    "                false_rows.append(row)\n",
    "        return true_rows, false_rows\n",
    "\n",
    "    def find_best_feature(self, rows):\n",
    "        # placeholder return values \n",
    "        best_gain = 0\n",
    "        best_question = None\n",
    "        current_uncertainty = gini(rows)\n",
    "\n",
    "        # for all features\n",
    "        for i in range((len(rows[0]) - 1)):\n",
    "            unique_values = unique(rows, i)\n",
    "            \n",
    "            # for every unique value\n",
    "            for value in unique_values:\n",
    "                question = Question(i, value)\n",
    "                left, right = self.partition(rows, question)\n",
    "\n",
    "                if len(left) == 0 or len(right) == 0:\n",
    "                    continue\n",
    "\n",
    "                gain = info_gain(left, right, current_uncertainty)\n",
    "\n",
    "                if gain >= best_gain:\n",
    "                    best_gain = gain\n",
    "                    best_question = question\n",
    "                          \n",
    "        return best_gain, best_question\n",
    "    \n",
    "    def build_tree(self, rows):\n",
    "        # get the feature that has the most info gain \n",
    "        # and use it to create a question\n",
    "        gain, question = self.find_best_feature(rows)\n",
    "        \n",
    "        # No further classification necessary\n",
    "        # Leaf reached\n",
    "        if gain == 0:\n",
    "            return Leaf(rows)\n",
    "        \n",
    "        left, right = self.partition(rows, question)\n",
    "        \n",
    "        # recursively build a tree on \n",
    "        # the newly created branches\n",
    "        left_branch = self.build_tree(left)\n",
    "        right_branch = self.build_tree(right)\n",
    "        \n",
    "        return DecisionNode(question, left_branch, right_branch)\n",
    "    \n",
    "    def classify(self, row, node):\n",
    "        # If the node instance is already a leaf, return the predictions\n",
    "        if isinstance(node, Leaf):\n",
    "            return node.predictions\n",
    "        \n",
    "        # Do a recursive classification until a Leaf node is reached\n",
    "        if node.question.match(row):\n",
    "            return self.classify(row, node.left_branch)\n",
    "        else:\n",
    "            return self.classify(row, node.right_branch)\n",
    "    \n",
    "    def predict(self, test_data):\n",
    "        predictions = []\n",
    "        # create a tree from the training data\n",
    "        tree = self.build_tree(self.training_data)\n",
    "        print_tree(tree)\n",
    "        for row in test_data:\n",
    "            predictions.append(self.classify(row, tree))\n",
    "        return predictions"
   ]
  },
  {
   "cell_type": "code",
   "execution_count": 47,
   "metadata": {},
   "outputs": [
    {
     "name": "stdout",
     "output_type": "stream",
     "text": [
      "The Selected Decision Tree.\n",
      "Is diameter >= 1?\n",
      "--> True:\n",
      "The Selected Decision Tree.\n",
      "  Predict {'Grape': 2}\n",
      "--> False:\n",
      "The Selected Decision Tree.\n",
      "  Is color == Yellow?\n",
      "  --> True:\n",
      "The Selected Decision Tree.\n",
      "    Predict {'Apple': 1, 'Lemon': 1}\n",
      "  --> False:\n",
      "The Selected Decision Tree.\n",
      "    Predict {'Apple': 1}\n"
     ]
    },
    {
     "data": {
      "text/plain": [
       "[{'Apple': 1},\n",
       " {'Apple': 1},\n",
       " {'Apple': 1, 'Lemon': 1},\n",
       " {'Apple': 1},\n",
       " {'Grape': 2},\n",
       " {'Apple': 1, 'Lemon': 1}]"
      ]
     },
     "execution_count": 47,
     "metadata": {},
     "output_type": "execute_result"
    }
   ],
   "source": [
    "testing_data = [\n",
    "    ['Green', 3, 'Apple'],\n",
    "    ['Green', 3, 'Apple'],\n",
    "    ['Yellow', 4, 'Apple'],\n",
    "    ['Red', 2, 'Grape'],\n",
    "    ['Red', 1, 'Grape'],\n",
    "    ['Yellow', 3, 'Lemon'],\n",
    "]\n",
    "classifier = DTClassifier()\n",
    "classifier.fit(training_data)\n",
    "classifier.predict(testing_data)"
   ]
  },
  {
   "cell_type": "code",
   "execution_count": null,
   "metadata": {},
   "outputs": [],
   "source": []
  }
 ],
 "metadata": {
  "kernelspec": {
   "display_name": "Python 3",
   "language": "python",
   "name": "python3"
  },
  "language_info": {
   "codemirror_mode": {
    "name": "ipython",
    "version": 3
   },
   "file_extension": ".py",
   "mimetype": "text/x-python",
   "name": "python",
   "nbconvert_exporter": "python",
   "pygments_lexer": "ipython3",
   "version": "3.8.1"
  },
  "latex_envs": {
   "LaTeX_envs_menu_present": true,
   "autoclose": false,
   "autocomplete": true,
   "bibliofile": "biblio.bib",
   "cite_by": "apalike",
   "current_citInitial": 1,
   "eqLabelWithNumbers": true,
   "eqNumInitial": 1,
   "hotkeys": {
    "equation": "Ctrl-E",
    "itemize": "Ctrl-I"
   },
   "labels_anchors": false,
   "latex_user_defs": false,
   "report_style_numbering": false,
   "user_envs_cfg": false
  }
 },
 "nbformat": 4,
 "nbformat_minor": 2
}
